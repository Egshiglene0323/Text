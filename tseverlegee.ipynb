{
 "cells": [
  {
   "cell_type": "code",
   "execution_count": 29,
   "metadata": {},
   "outputs": [],
   "source": [
    "from nltk.tokenize import word_tokenize\n",
    "import re\n",
    "import string\n",
    "import pandas as pd"
   ]
  },
  {
   "cell_type": "code",
   "execution_count": 30,
   "metadata": {},
   "outputs": [
    {
     "data": {
      "text/html": [
       "<div>\n",
       "<style scoped>\n",
       "    .dataframe tbody tr th:only-of-type {\n",
       "        vertical-align: middle;\n",
       "    }\n",
       "\n",
       "    .dataframe tbody tr th {\n",
       "        vertical-align: top;\n",
       "    }\n",
       "\n",
       "    .dataframe thead th {\n",
       "        text-align: right;\n",
       "    }\n",
       "</style>\n",
       "<table border=\"1\" class=\"dataframe\">\n",
       "  <thead>\n",
       "    <tr style=\"text-align: right;\">\n",
       "      <th></th>\n",
       "      <th>END_REASON_ID</th>\n",
       "      <th>END_REASON_DESCRIPTION</th>\n",
       "      <th>END_REASON_DESCRIPTION CLEAR</th>\n",
       "    </tr>\n",
       "  </thead>\n",
       "  <tbody>\n",
       "    <tr>\n",
       "      <th>0</th>\n",
       "      <td>0</td>\n",
       "      <td>Ажиллаж байгаа</td>\n",
       "      <td>ажиллаж байгаа</td>\n",
       "    </tr>\n",
       "    <tr>\n",
       "      <th>1</th>\n",
       "      <td>0</td>\n",
       "      <td>Одоо ажиллаж байна</td>\n",
       "      <td>ажиллаж байгаа</td>\n",
       "    </tr>\n",
       "    <tr>\n",
       "      <th>2</th>\n",
       "      <td>10</td>\n",
       "      <td>Түр орон тоон дээр ажилласан</td>\n",
       "      <td>хүний оронд түр ажиллаж байсан</td>\n",
       "    </tr>\n",
       "    <tr>\n",
       "      <th>3</th>\n",
       "      <td>0</td>\n",
       "      <td>ажиллаж байгаа</td>\n",
       "      <td>ажиллаж байгаа</td>\n",
       "    </tr>\n",
       "    <tr>\n",
       "      <th>4</th>\n",
       "      <td>0</td>\n",
       "      <td>одоо ажиллаж байгаа</td>\n",
       "      <td>ажиллаж байгаа</td>\n",
       "    </tr>\n",
       "  </tbody>\n",
       "</table>\n",
       "</div>"
      ],
      "text/plain": [
       "  END_REASON_ID        END_REASON_DESCRIPTION    END_REASON_DESCRIPTION CLEAR\n",
       "0             0                Ажиллаж байгаа                  ажиллаж байгаа\n",
       "1             0            Одоо ажиллаж байна                  ажиллаж байгаа\n",
       "2            10  Түр орон тоон дээр ажилласан  хүний оронд түр ажиллаж байсан\n",
       "3             0                ажиллаж байгаа                  ажиллаж байгаа\n",
       "4             0           одоо ажиллаж байгаа                  ажиллаж байгаа"
      ]
     },
     "execution_count": 30,
     "metadata": {},
     "output_type": "execute_result"
    }
   ],
   "source": [
    "data = pd.read_csv(\"reason.csv\", encoding = 'UTF-8')\n",
    "data.head(5)"
   ]
  },
  {
   "cell_type": "code",
   "execution_count": 31,
   "metadata": {},
   "outputs": [
    {
     "name": "stdout",
     "output_type": "stream",
     "text": [
      "         END_REASON_DESCRIPTION    END_REASON_DESCRIPTION CLEAR\n",
      "0                Ажиллаж байгаа                  ажиллаж байгаа\n",
      "1            Одоо ажиллаж байна                  ажиллаж байгаа\n",
      "2  Түр орон тоон дээр ажилласан  хүний оронд түр ажиллаж байсан\n",
      "3                ажиллаж байгаа                  ажиллаж байгаа\n",
      "4           одоо ажиллаж байгаа                  ажиллаж байгаа\n"
     ]
    }
   ],
   "source": [
    "columns_to_drop = ['END_REASON_ID']\n",
    "data = data.drop(columns=columns_to_drop)\n",
    "print(data.head())"
   ]
  },
  {
   "cell_type": "code",
   "execution_count": 32,
   "metadata": {},
   "outputs": [
    {
     "name": "stdout",
     "output_type": "stream",
     "text": [
      "                           Text                          Target\n",
      "0                Ажиллаж байгаа                  ажиллаж байгаа\n",
      "1            Одоо ажиллаж байна                  ажиллаж байгаа\n",
      "2  Түр орон тоон дээр ажилласан  хүний оронд түр ажиллаж байсан\n",
      "3                ажиллаж байгаа                  ажиллаж байгаа\n",
      "4           одоо ажиллаж байгаа                  ажиллаж байгаа\n"
     ]
    }
   ],
   "source": [
    "data = data.rename(columns={'END_REASON_DESCRIPTION':'Text','END_REASON_DESCRIPTION CLEAR':'Target'})\n",
    "print(data.head())"
   ]
  },
  {
   "cell_type": "code",
   "execution_count": 33,
   "metadata": {},
   "outputs": [
    {
     "name": "stdout",
     "output_type": "stream",
     "text": [
      "<class 'pandas.core.frame.DataFrame'>\n",
      "RangeIndex: 7212 entries, 0 to 7211\n",
      "Data columns (total 2 columns):\n",
      " #   Column  Non-Null Count  Dtype \n",
      "---  ------  --------------  ----- \n",
      " 0   Text    7212 non-null   object\n",
      " 1   Target  6916 non-null   object\n",
      "dtypes: object(2)\n",
      "memory usage: 112.8+ KB\n"
     ]
    }
   ],
   "source": [
    "data.info()"
   ]
  },
  {
   "cell_type": "code",
   "execution_count": 34,
   "metadata": {},
   "outputs": [
    {
     "name": "stdout",
     "output_type": "stream",
     "text": [
      "                           Text                          Target\n",
      "0                ажиллаж байгаа                  ажиллаж байгаа\n",
      "1            одоо ажиллаж байна                  ажиллаж байгаа\n",
      "2  түр орон тоон дээр ажилласан  хүний оронд түр ажиллаж байсан\n",
      "3                ажиллаж байгаа                  ажиллаж байгаа\n",
      "4           одоо ажиллаж байгаа                  ажиллаж байгаа\n"
     ]
    }
   ],
   "source": [
    "def cleaning (Text):\n",
    "    Text = Text.lower()\n",
    "    Text =  re.sub(r'@\\S+', '',Text)\n",
    "    Text =  re.sub(r'http\\S+', '',Text) # urls устгах\n",
    "    Text =  re.sub(r'pic.\\S+', '',Text)\n",
    "    #Text =  re.sub(r\"[^a-zA-ZáéíóúÁÉÍÓÚ']\", ' ',Text) # зөвхөн тэмдэгтүүдийг хадгалах\n",
    "    #Text =  re.sub(r'\\s+[a-zA-ZáéíóúÁÉÍÓÚ]\\s+', ' ', Text+' ')  # 1-с их урттай үгнүүдийг хадгалах\n",
    "    Text = \"\".join([i for i in Text if i not in string.punctuation])\n",
    "    words = word_tokenize(Text)\n",
    "    # stopwords = nltk.corpus.stopwords.words('mongolia')   # stopwords устгах\n",
    "    # Text = \" \".join([i for i in words if i not in stopwords])\n",
    "    Text= re.sub(\"\\s[\\s]+\", \" \",Text).strip() # текст дэх олон дараалсан хоосон зайны тэмдэгтүүдийг (whitespace characters)\n",
    "        # нэг хоосон зайгаар сольж, дараа нь strip() функцыг ашиглан тэмдэгт мөрийн эхний болон арын зайг арилгана. \n",
    "    return Text\n",
    "\n",
    "data[\"Text\"]=data[\"Text\"].apply(cleaning)\n",
    "print(data.head())"
   ]
  },
  {
   "cell_type": "code",
   "execution_count": 35,
   "metadata": {},
   "outputs": [
    {
     "name": "stdout",
     "output_type": "stream",
     "text": [
      "                           Text                          Target\n",
      "0                ажиллаж байгаа                  ажиллаж байгаа\n",
      "1            одоо ажиллаж байна                  ажиллаж байгаа\n",
      "2  түр орон тоон дээр ажилласан  хүний оронд түр ажиллаж байсан\n",
      "3                ажиллаж байгаа                  ажиллаж байгаа\n",
      "4           одоо ажиллаж байгаа                  ажиллаж байгаа\n"
     ]
    }
   ],
   "source": [
    "data[\"Text\"]=data[\"Text\"].apply(cleaning)\n",
    "print(data.head())"
   ]
  },
  {
   "cell_type": "code",
   "execution_count": 36,
   "metadata": {},
   "outputs": [
    {
     "name": "stdout",
     "output_type": "stream",
     "text": [
      "                           Text                          Target\n",
      "0                ажиллаж байгаа                  ажиллаж байгаа\n",
      "1            одоо ажиллаж байна                  ажиллаж байгаа\n",
      "2  түр орон тоон дээр ажилласан  хүний оронд түр ажиллаж байсан\n",
      "3                ажиллаж байгаа                  ажиллаж байгаа\n",
      "4           одоо ажиллаж байгаа                  ажиллаж байгаа\n"
     ]
    }
   ],
   "source": [
    "from nltk.stem import PorterStemmer\n",
    "stemmer = PorterStemmer()\n",
    "\n",
    "# Function to apply stemming to a text\n",
    "def stemming(text):\n",
    "    words = text.split()\n",
    "    stemmed_words = [stemmer.stem(word) for word in words]\n",
    "    return ' '.join(stemmed_words)\n",
    "\n",
    "# Apply stemming to the 'Text' column\n",
    "data['Text'] = data['Text'].apply(stemming)\n",
    "\n",
    "print(data.head())"
   ]
  },
  {
   "cell_type": "code",
   "execution_count": 37,
   "metadata": {},
   "outputs": [],
   "source": [
    "data.to_csv('data.csv', index=False)"
   ]
  }
 ],
 "metadata": {
  "kernelspec": {
   "display_name": "Python 3",
   "language": "python",
   "name": "python3"
  },
  "language_info": {
   "codemirror_mode": {
    "name": "ipython",
    "version": 3
   },
   "file_extension": ".py",
   "mimetype": "text/x-python",
   "name": "python",
   "nbconvert_exporter": "python",
   "pygments_lexer": "ipython3",
   "version": "3.11.5"
  }
 },
 "nbformat": 4,
 "nbformat_minor": 2
}
